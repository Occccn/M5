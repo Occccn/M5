{
 "cells": [
  {
   "cell_type": "code",
   "execution_count": null,
   "metadata": {},
   "outputs": [],
   "source": [
    "import pandas as pd\n",
    "import numpy as np"
   ]
  },
  {
   "cell_type": "code",
   "execution_count": null,
   "metadata": {},
   "outputs": [],
   "source": [
    "class Dataset():\n",
    "    def __init__(self):\n",
    "        self.name = self.__class__.__name__\n",
    "        prefix = ''\n",
    "        suffix = ''\n",
    "        self.dir = '.features/'\n",
    "        \n",
    "        \n",
    "        \n",
    "    def reduce_mem_usage(df, verbose=True):\n",
    "        numerics = ['int16', 'int32', 'int64', 'float16', 'float32', 'float64']\n",
    "        start_mem = df.memory_usage().sum() / 1024**2    \n",
    "        for col in df.columns:\n",
    "            col_type = df[col].dtypes\n",
    "            if col_type in numerics:\n",
    "                c_min = df[col].min()\n",
    "                c_max = df[col].max()\n",
    "                if str(col_type)[:3] == 'int':\n",
    "                    if c_min > np.iinfo(np.int8).min and c_max < np.iinfo(np.int8).max:\n",
    "                        df[col] = df[col].astype(np.int8)\n",
    "                    elif c_min > np.iinfo(np.int16).min and c_max < np.iinfo(np.int16).max:\n",
    "                        df[col] = df[col].astype(np.int16)\n",
    "                    elif c_min > np.iinfo(np.int32).min and c_max < np.iinfo(np.int32).max:\n",
    "                        df[col] = df[col].astype(np.int32)\n",
    "                    elif c_min > np.iinfo(np.int64).min and c_max < np.iinfo(np.int64).max:\n",
    "                        df[col] = df[col].astype(np.int64)  \n",
    "                else:\n",
    "                    if c_min > np.finfo(np.float16).min and c_max < np.finfo(np.float16).max:\n",
    "                        df[col] = df[col].astype(np.float16)\n",
    "                    elif c_min > np.finfo(np.float32).min and c_max < np.finfo(np.float32).max:\n",
    "                        df[col] = df[col].astype(np.float32)\n",
    "                    else:\n",
    "                        df[col] = df[col].astype(np.float64)    \n",
    "        end_mem = df.memory_usage().sum() / 1024**2\n",
    "        if verbose: print('Mem. usage decreased to {:5.2f} Mb ({:.1f}% reduction)'.format(end_mem, 100 * (start_mem - end_mem) / start_mem))\n",
    "        return df\n",
    "\n",
    "    \n",
    "    def get_features(self ,features = None):\n",
    "        \n",
    "        #作成した特徴量の取得\n",
    "        if features == None:\n",
    "            print('features not selected')\n",
    "            exit(0)\n",
    "        else:\n",
    "            dfs = [pd.read_feather(f'.features/{f}.pickle') for f in features]\n",
    "            dfs = reduce_mem_usage(dfs)\n",
    "            \n",
    "            return dfs\n",
    "        \n",
    "    def get_dataset(self):\n",
    "        #生データの取得\n",
    "        self.data = pd.read_pickle('./data_full.pickle')\n",
    "        \n",
    "        \n",
    "    def run(self):\n",
    "            self.create_features()\n",
    "            prefix = self.prefix + '_' if self.prefix else ''\n",
    "            suffix = '_' + self.suffix if self.suffix else ''\n",
    "            self.train.columns = prefix + self.train.columns + suffix\n",
    "            self.test.columns = prefix + self.test.columns + suffix\n",
    "    \n",
    "    \n",
    "    def save(self ,feature):\n",
    "        feature.to_pickle('self.dir + {0}.pickle'.format(feature.name))\n",
    "        "
   ]
  },
  {
   "cell_type": "code",
   "execution_count": null,
   "metadata": {},
   "outputs": [],
   "source": [
    "class lag_Feature(Dataset):\n",
    "    #単純な移動平均\n",
    "    \n",
    "\n",
    "    def create_features(self):\n",
    "        \n",
    "        #特徴量作成処理\n",
    "        return self\n",
    "    \n",
    "    \n",
    "                \n",
    "                "
   ]
  }
 ],
 "metadata": {
  "kernelspec": {
   "display_name": "Python 3",
   "language": "python",
   "name": "python3"
  },
  "language_info": {
   "codemirror_mode": {
    "name": "ipython",
    "version": 3
   },
   "file_extension": ".py",
   "mimetype": "text/x-python",
   "name": "python",
   "nbconvert_exporter": "python",
   "pygments_lexer": "ipython3",
   "version": "3.7.4"
  }
 },
 "nbformat": 4,
 "nbformat_minor": 4
}
