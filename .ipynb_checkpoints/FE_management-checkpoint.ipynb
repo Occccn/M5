{
 "cells": [
  {
   "cell_type": "code",
   "execution_count": 1,
   "metadata": {},
   "outputs": [],
   "source": [
    "import pandas as pd\n",
    "import numpy as np\n",
    "import os\n",
    "import gc\n",
    "import joblib\n",
    "from datetime import datetime as dt"
   ]
  },
  {
   "cell_type": "code",
   "execution_count": 2,
   "metadata": {},
   "outputs": [],
   "source": [
    "class Dataset():\n",
    "    def __init__(self):\n",
    "        prefix = ''\n",
    "        suffix = ''\n",
    "        self.dir = '../features/'\n",
    "        \n",
    "        \n",
    "    def reduce_mem_usage(self,df):\n",
    "        numerics = ['int16', 'int32', 'int64', 'float16', 'float32', 'float64']\n",
    "        start_mem = df.memory_usage().sum() / 1024**2\n",
    "        for col in df.columns:\n",
    "            col_type = df[col].dtypes\n",
    "            if col_type in numerics:\n",
    "                c_min = df[col].min()\n",
    "                c_max = df[col].max()\n",
    "                if str(col_type)[:3] == 'int':\n",
    "                    if c_min > np.iinfo(np.int8).min and c_max < np.iinfo(np.int8).max:\n",
    "                        df[col] = df[col].astype(np.int8)\n",
    "                    elif c_min > np.iinfo(np.int16).min and c_max < np.iinfo(np.int16).max:\n",
    "                        df[col] = df[col].astype(np.int16)\n",
    "                    elif c_min > np.iinfo(np.int32).min and c_max < np.iinfo(np.int32).max:\n",
    "                        df[col] = df[col].astype(np.int32)\n",
    "                    elif c_min > np.iinfo(np.int64).min and c_max < np.iinfo(np.int64).max:\n",
    "                        df[col] = df[col].astype(np.int64)  \n",
    "                else:\n",
    "                    if c_min > np.finfo(np.float16).min and c_max < np.finfo(np.float16).max:\n",
    "                        df[col] = df[col].astype(np.float16)\n",
    "                    elif c_min > np.finfo(np.float32).min and c_max < np.finfo(np.float32).max:\n",
    "                        df[col] = df[col].astype(np.float32)\n",
    "                    else:\n",
    "                        df[col] = df[col].astype(np.float64)    \n",
    "        return df\n",
    "\n",
    "    \n",
    "    def get_features(self ,features = None):\n",
    "        #作成した特徴量の取得\n",
    "        if features == None:\n",
    "            print('features not selected')\n",
    "            exit(0)\n",
    "        else:\n",
    "            dfs = [pd.read_feather(f'.features/{f}.pickle') for f in features]\n",
    "            dfs = reduce_mem_usage(dfs)\n",
    "            \n",
    "            return dfs\n",
    "        \n",
    "    def get_dataset(self):\n",
    "        #基本となるデータセットの取得(M5の場合)\n",
    "        with open('../data/data_full.joblib', mode=\"rb\") as f:\n",
    "            self.data = joblib.load(f)\n",
    "        \n",
    "        \n",
    "    def run(self):\n",
    "            self.create_features()\n",
    "            prefix = self.prefix + '_' if self.prefix else ''\n",
    "            suffix = '_' + self.suffix if self.suffix else ''\n",
    "            self.train.columns = prefix + self.train.columns + suffix\n",
    "            self.test.columns = prefix + self.test.columns + suffix\n",
    "        "
   ]
  },
  {
   "cell_type": "code",
   "execution_count": 13,
   "metadata": {},
   "outputs": [
    {
     "ename": "SyntaxError",
     "evalue": "invalid syntax (<ipython-input-13-8751e2535af7>, line 14)",
     "output_type": "error",
     "traceback": [
      "\u001b[0;36m  File \u001b[0;32m\"<ipython-input-13-8751e2535af7>\"\u001b[0;36m, line \u001b[0;32m14\u001b[0m\n\u001b[0;31m    with open((self.dir + self.file_dir+'/'+'{0}.joblib'.format(feature.name), mode=\"wb\") as f:\u001b[0m\n\u001b[0m                                                                                   ^\u001b[0m\n\u001b[0;31mSyntaxError\u001b[0m\u001b[0;31m:\u001b[0m invalid syntax\n"
     ]
    }
   ],
   "source": [
    "class Feature(Dataset):\n",
    "    #\n",
    "        \n",
    "        \n",
    "    def __init__(self):\n",
    "        super().__init__()\n",
    "        self.file_dir = self.__class__.__name__ \n",
    "        if not os.path.exists(self.dir + self.file_dir):\n",
    "            os.mkdir(self.dir + self.file_dir)\n",
    "        \n",
    "        \n",
    "    \n",
    "    def save(self ,feature):\n",
    "        with open((self.dir + self.file_dir+'/'+'{0}.joblib'.format(feature.name), mode=\"wb\") as f:\n",
    "            joblib.dump(feature, f, compress=3)\n",
    "\n",
    "        \n",
    "    def create_features_SNAP_LAG(self):\n",
    "        #作成する特徴量について記述\n",
    "        \n",
    " \n",
    "\n",
    "                \n",
    "                "
   ]
  }
 ],
 "metadata": {
  "kernelspec": {
   "display_name": "Python 3",
   "language": "python",
   "name": "python3"
  },
  "language_info": {
   "codemirror_mode": {
    "name": "ipython",
    "version": 3
   },
   "file_extension": ".py",
   "mimetype": "text/x-python",
   "name": "python",
   "nbconvert_exporter": "python",
   "pygments_lexer": "ipython3",
   "version": "3.7.4"
  }
 },
 "nbformat": 4,
 "nbformat_minor": 4
}
